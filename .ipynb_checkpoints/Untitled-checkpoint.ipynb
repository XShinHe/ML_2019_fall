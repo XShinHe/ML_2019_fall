{
 "cells": [
  {
   "cell_type": "markdown",
   "metadata": {},
   "source": [
    "# 设计一个显著减少支持向量数目，但没有明显下降泛化能力的SVM"
   ]
  },
  {
   "cell_type": "markdown",
   "metadata": {},
   "source": [
    "## pre-pruning 方法"
   ]
  },
  {
   "cell_type": "markdown",
   "metadata": {},
   "source": [
    "### pre-Clustering 抽样"
   ]
  },
  {
   "cell_type": "markdown",
   "metadata": {},
   "source": [
    "### pre-random 抽样"
   ]
  },
  {
   "cell_type": "markdown",
   "metadata": {},
   "source": [
    "## 带有SV数目惩罚项的优化算法"
   ]
  },
  {
   "cell_type": "markdown",
   "metadata": {},
   "source": [
    "### 等效于优化对偶问题\n",
    "$$\n",
    "\\min_{\\alpha} \\frac{1}{2}\\sum_i\\sum_j \\alpha_i\\alpha_j y_i y_j K(x_i,x_j) - \\gamma \\sum_i \\alpha_i\n",
    "$$\n",
    "\n",
    "其中对于原始的SVM, $\\gamma=1$；而对于SV数目有惩罚的优化问题，$\\gamma <1$。\n",
    "\n",
    "这里的核函数可以选取为:\n",
    "\n",
    "* 线性核函数: $K(x_i,x_j) = x_i \\cdot x_j$\n",
    "> \n",
    "或者记矩阵$X_{i,.} = x_i$,那么核矩阵\n",
    "$$\n",
    "K = XX^T\n",
    "$$\n",
    "\n",
    "* 多项式核函数: $K(x_i,x_j) = (x_i \\cdot x_j +1)^p$\n",
    "* 高斯核函数: $K(x_i,x_j) = \\exp(-\\|x_i - x_j\\|^2/2\\sigma^2)$\n",
    "> \n",
    "对于高斯核的指数部分:\n",
    "$$\n",
    "\\|x_i - x_j\\|^2 = x_i\\cdot x_i +x_j\\cdot x_j - 2x_i\\cdot x_j \\\\\n",
    "= (NI^T + IN^T - 2XX^T)_{ij}\n",
    "$$\n",
    "其中$N_i = x_i\\cdot x_i$,$I_i = 1$,都是列向量.\n",
    "\n",
    "### SMO算法\n",
    "\n",
    "* 子问题的解决（minimial）\n",
    "\n",
    "一次只考虑两个变量的同时优化\n",
    "\n",
    "$$\n",
    "\\min_{\\alpha_1,\\alpha-2} W(\\alpha_1,\\alpha_2) = \\frac{1}{2}K_{11}\\alpha_1^2 + \n",
    "\\frac{1}{2}K_{22}\\alpha_2^2 + y_1y_2 K_{12}\\alpha_1 \\alpha_2 - \\gamma (\\alpha_1+\\alpha_2) + y_1\\alpha_1\\sum_{i=3}^N y_i\\alpha_i K_{i1} + y_2\\alpha_2\\sum_{i=3}^N y_i\\alpha_i K_{i2} \\\\\n",
    "\\text{s.t. } \\alpha_1 y_1 + \\alpha_2 y_2 = \\zeta, 0 \\le \\alpha_1 \\le C, 0\\le \\alpha_2 \\le C\n",
    "$$\n",
    "\n",
    "记\n",
    "\n",
    "$$\n",
    "v_i = \\sum_{i=3}^N\\alpha_j y_iK(x_j,x_i) = g(x_i) - \\sum_{j=1}^2 \\alpha_j y_j K(x_j,x_i)-b,\\, i=1,2\n",
    "\\\\\n",
    "\\alpha_1 = y_1\\zeta - y_1y_2\\alpha_2\n",
    "$$\n",
    "\n",
    "则代入得到\n",
    "\n",
    "$$\n",
    "W = \\frac{1}{2} K_{11}\\alpha_1^2 + \\frac{1}{2} K_{22}\\alpha_2^2 + y_1y_2 K_{12}\\alpha_1\\alpha_2  - \\gamma (\\alpha_1 + \\gamma_2) + y_1 v_1 \\alpha_1 + y_2 v_2 \\alpha_2 \\\\\n",
    "= \\frac{1}{2} K_{11} (\\zeta-y_2\\alpha_2)^2 + \\frac{1}{2} K_{22}\\alpha_2^2 + y_2 K_{12}(\\zeta-y_2\\alpha_2)\\alpha_2  - \\gamma (y_1(\\zeta-y_2\\alpha_2) + \\alpha_2) + v_1 (\\zeta-y_2\\alpha_2) + y_2 v_2 \\alpha_2 \\\\\n",
    "$$\n",
    "\n",
    "将$W$对$\\alpha_2$求导数\n",
    "$$\n",
    "\\partial_{\\alpha_2}W = K_{11}\\alpha_2 + K_{22}\\alpha_2 - 2K_{12}\\alpha_2 - K_{11}\\zeta y_2 + K_{12}\\zeta y_2 + \\gamma (y_1y_2-1) - v_1 y_2 + v_2y_2 = 0\n",
    "$$\n",
    "得到\n",
    "$$\n",
    "(K_{11}+K_{22}-2K_{12}) \\alpha_2 = y_2(\\gamma (y_2-y_1) + \\zeta K_{11} - \\zeta K_{12} + v_1 - v_2)\n",
    " = (K_{11}+K_{22}-2K_{12}) \\alpha_2^{old} + y_2(\\tilde{E}_1-\\tilde{E}_2)\n",
    "$$\n",
    "\n",
    "这里\n",
    "$$\n",
    "\\tilde{E}_i = g(x_i) - \\gamma y_i = E_i + (1-\\gamma)y_i\\\\\n",
    "E_i = g(x_i) - y_i\n",
    "$$\n",
    "\n",
    "* 如何选择子问题（sequential）\n",
    "\n",
    "> * 第一个变量i,\n",
    ">> * 首先选择间隔边界上的支持向量点,选择最违反KKT条件的点;\n",
    ">> * 如果都满足KKT条件,遍历整个训练集,选择最违反KKT的点.\n",
    ">* 第二个变量j\n",
    ">> * 选择$|E_i-E_j|$最大;\n",
    ">> * 如果没有太大下降,则选择边界上的支持向量点;\n",
    ">> * 如果还没有足够下降,则遍历整个训练集;\n",
    ">> * 如果还没有,则在外层循环寻找下一个合适的i."
   ]
  },
  {
   "cell_type": "markdown",
   "metadata": {},
   "source": [
    "## Post-construction方法"
   ]
  },
  {
   "cell_type": "markdown",
   "metadata": {},
   "source": []
  },
  {
   "cell_type": "markdown",
   "metadata": {},
   "source": [
    "## Post-selection方法"
   ]
  },
  {
   "cell_type": "code",
   "execution_count": null,
   "metadata": {},
   "outputs": [],
   "source": []
  }
 ],
 "metadata": {
  "kernelspec": {
   "display_name": "Python 3",
   "language": "python",
   "name": "python3"
  },
  "language_info": {
   "codemirror_mode": {
    "name": "ipython",
    "version": 3
   },
   "file_extension": ".py",
   "mimetype": "text/x-python",
   "name": "python",
   "nbconvert_exporter": "python",
   "pygments_lexer": "ipython3",
   "version": "3.7.3"
  }
 },
 "nbformat": 4,
 "nbformat_minor": 2
}
