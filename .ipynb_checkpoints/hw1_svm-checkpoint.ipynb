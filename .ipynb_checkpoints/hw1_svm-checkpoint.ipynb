{
 "cells": [
  {
   "cell_type": "markdown",
   "metadata": {},
   "source": [
    "# 设计一个显著减少支持向量数目，但没有明显下降泛化能力的SVM"
   ]
  },
  {
   "cell_type": "markdown",
   "metadata": {},
   "source": [
    "数据集的生成：\n",
    "\n",
    "不失一般性，我们考虑特征空间只有两个自由度的分类问题。 问题包含两个类别，一个类是在$(0,0)$为中心$\\sigma=0.5$为方差的二维正态分布产生的随机变量,记为负类$-1$；一个类是在$(1,1)$为中心$\\sigma$为方差的二维正态分布产生的随机变量，记为正类$+1$。数据集中含有1000个样本，明显，数据集不是完全可分的，而是近似可分的。"
   ]
  },
  {
   "cell_type": "markdown",
   "metadata": {},
   "source": [
    "数据集的生成代码为：\n",
    "***\n",
    "\n",
    "```python\n",
    "import numpy as np\n",
    "N=1000\n",
    "r = np.random.randint(2,size=N)\n",
    "X = np.zeros((N,2))\n",
    "y = np.zeros((N))\n",
    "X[:,0] = np.random.normal(r,0.5)\n",
    "X[:,1] = np.random.normal(r,0.5)\n",
    "y = 2*r-1\n",
    "```\n",
    "***\n",
    "存为csv文件, 之后每次都使用固定的数据集进行测试。\n",
    "\n",
    "> 注：助教推荐的数据集网站要么因为不符合二分类问题，要么因为样本数有省缺值或样本量太多或太少，不是很合适于这次方法策略的阐述。因此我们使用了自我启发所产生的数据集，即能否将服从两种不同分布的随机变量分开。"
   ]
  },
  {
   "cell_type": "markdown",
   "metadata": {},
   "source": [
    "## 文献调研  \n",
    "\n",
    "* [Ho Gi Jung, and Gahyun Kim, Support Vector Number Reduction: Survey and Experimental \n",
    "Evaluations, IEEE TRANSACTIONS ON INTELLIGENT TRANSPORTATION SYSTEMS, VOL.15, NO.2, APRIL \n",
    "2014](https://ieeexplore.ieee.org/document/6623200)\n",
    "* [P. M. L. Drezet and R. F. Harrison, “A new method for sparsity control in support vector \n",
    "classification and regression,” Pattern Recognit., vol.34, no.1, pp. 111–125, Jan. 2001](\n",
    "https://www.sciencedirect.com/science/article/pii/S0031320399002034)\n",
    "* [O. Dekel and Y. Singer, “Support vector machines on a budget,” in Proc. NIPS Found., 2006, \n",
    "pp.1–8](https://ieeexplore.ieee.org/book/6267330)\n",
    "* [S.-Y. Chiu, L.-S. Lan, and Y.-C. Hwang, “Two sparsity-controlled schemes for 1-norm support \n",
    "vector classification,” in Proc. IEEE Northeast Workshop Circuits Syst., Montreal, QC, Canada, \n",
    "Aug. 5–8, 2007,pp. 337–340](https://ieeexplore.ieee.org/document/4487961?arnumber=4487961)\n",
    "\n",
    "我们主要阅读和参考了如上（但不仅仅包括如上）的一些文献。对于减少SVM中支持向量的方法都有了一定系统性的认识。\n",
    "\n",
    "首先，因该指出在SVM的二分类问题中，支持向量的个数是与训练集的大小呈线性关系的。\n",
    "\n",
    "而标准的SVM的计算复杂度为$\\mathcal{nn_{sv} + n_{sv}^3}$, 是与支持向量的三次方呈正比的。因此通过各种方法约化减少支持向量的数目。是改进SVM效率和性能的重要途径。\n",
    "\n",
    "针对约化支持向量数目的方法，主要分为两个派别，一个是预修剪(pre-pruning)，一个是后修剪(post-pruning)。\n",
    "\n",
    "* 预修剪中，我们在优化问题的同时，就考虑加上对于支持向量数目的惩罚（cost）或数目的约束(constraint)；或者，我们可以在分类前，对样本数据进行处理，如聚类(cluster)或随机抽样（Random）的方法，有效地减少优化问题中的支持向量的数目。\n",
    "\n",
    "* 后修剪，是建立在标准的SVM之后，即通过SVM的结果，抽取或构建出新的SVM分类问题，使得新的SVM分类问题中的支持向量数目得到极大的约化，同时很好地描述原有的SVM分类问题。后修剪方法，可以是从约化集合的选择、或约化集合的构建已得到最优的近似特征向量；也可以是对新的学习样例的选择，以达到构造的新SVM具有更少的支持向量的方法。"
   ]
  },
  {
   "cell_type": "markdown",
   "metadata": {},
   "source": [
    "**本文策略**：以下从三个方面，即带有对SV数目惩罚项的优化算法、对样本的预处理（Clsutering或Random Sampling）、后修剪三个方向，对支持向量数目的约化方法进行探讨和实践。"
   ]
  },
  {
   "cell_type": "markdown",
   "metadata": {},
   "source": [
    "## 带有对SV数目惩罚项的算法\n",
    "\n",
    "***\n",
    "\n",
    "### 等效于优化对偶问题\n",
    "$$\n",
    "\\min_{\\alpha} \\frac{1}{2}\\sum_i\\sum_j \\alpha_i\\alpha_j y_i y_j K(x_i,x_j) - \\gamma \\sum_i \\alpha_i\n",
    "$$\n",
    "\n",
    "其中对于原始的SVM, $\\gamma=1$；而对于SV数目有惩罚的优化问题，$\\gamma <1$。\n",
    "\n",
    "这里的核函数可以选取为:\n",
    "\n",
    "* 线性核函数: $K(x_i,x_j) = x_i \\cdot x_j$\n",
    "> \n",
    "或者记矩阵$X_{i,.} = x_i$,那么核矩阵\n",
    "$$\n",
    "K = XX^T\n",
    "$$\n",
    "\n",
    "* 多项式核函数: $K(x_i,x_j) = (x_i \\cdot x_j +1)^p$\n",
    "* 高斯核函数: $K(x_i,x_j) = \\exp(-\\|x_i - x_j\\|^2/2\\sigma^2)$\n",
    "> \n",
    "对于高斯核的指数部分:\n",
    "$$\n",
    "\\|x_i - x_j\\|^2 = x_i\\cdot x_i +x_j\\cdot x_j - 2x_i\\cdot x_j \\\\\n",
    "= (NI^T + IN^T - 2XX^T)_{ij}\n",
    "$$\n",
    "其中$N_i = x_i\\cdot x_i$,$I_i = 1$,都是列向量.\n",
    "\n",
    "### SMO算法\n",
    "\n",
    "* 子问题的解决（minimial）\n",
    "\n",
    "一次只考虑两个变量的同时优化\n",
    "\n",
    "$$\n",
    "\\min_{\\alpha_1,\\alpha-2} W(\\alpha_1,\\alpha_2) = \\frac{1}{2}K_{11}\\alpha_1^2 + \n",
    "\\frac{1}{2}K_{22}\\alpha_2^2 + y_1y_2 K_{12}\\alpha_1 \\alpha_2 - \\gamma (\\alpha_1+\\alpha_2) + y_1\\alpha_1\\sum_{i=3}^N y_i\\alpha_i K_{i1} + y_2\\alpha_2\\sum_{i=3}^N y_i\\alpha_i K_{i2} \\\\\n",
    "\\text{s.t. } \\alpha_1 y_1 + \\alpha_2 y_2 = \\zeta, 0 \\le \\alpha_1 \\le C, 0\\le \\alpha_2 \\le C\n",
    "$$\n",
    "\n",
    "记\n",
    "\n",
    "$$\n",
    "v_i = \\sum_{i=3}^N\\alpha_j y_iK(x_j,x_i) = g(x_i) - \\sum_{j=1}^2 \\alpha_j y_j K(x_j,x_i)-b,\\, i=1,2\n",
    "\\\\\n",
    "\\alpha_1 = y_1\\zeta - y_1y_2\\alpha_2\n",
    "$$\n",
    "\n",
    "则代入得到\n",
    "\n",
    "$$\n",
    "W = \\frac{1}{2} K_{11}\\alpha_1^2 + \\frac{1}{2} K_{22}\\alpha_2^2 + y_1y_2 K_{12}\\alpha_1\\alpha_2  - \\gamma (\\alpha_1 + \\gamma_2) + y_1 v_1 \\alpha_1 + y_2 v_2 \\alpha_2 \\\\\n",
    "= \\frac{1}{2} K_{11} (\\zeta-y_2\\alpha_2)^2 + \\frac{1}{2} K_{22}\\alpha_2^2 + y_2 K_{12}(\\zeta-y_2\\alpha_2)\\alpha_2  - \\gamma (y_1(\\zeta-y_2\\alpha_2) + \\alpha_2) + v_1 (\\zeta-y_2\\alpha_2) + y_2 v_2 \\alpha_2 \\\\\n",
    "$$\n",
    "\n",
    "将$W$对$\\alpha_2$求导数\n",
    "$$\n",
    "\\partial_{\\alpha_2}W = K_{11}\\alpha_2 + K_{22}\\alpha_2 - 2K_{12}\\alpha_2 - K_{11}\\zeta y_2 + K_{12}\\zeta y_2 + \\gamma (y_1y_2-1) - v_1 y_2 + v_2y_2 = 0\n",
    "$$\n",
    "得到\n",
    "$$\n",
    "(K_{11}+K_{22}-2K_{12}) \\alpha_2 = y_2(\\gamma (y_2-y_1) + \\zeta K_{11} - \\zeta K_{12} + v_1 - v_2)\n",
    " = (K_{11}+K_{22}-2K_{12}) \\alpha_2^{old} + y_2(\\tilde{E}_1-\\tilde{E}_2)\n",
    "$$\n",
    "\n",
    "这里\n",
    "$$\n",
    "\\tilde{E}_i = g(x_i) - \\gamma y_i = E_i + (1-\\gamma)y_i\\\\\n",
    "E_i = g(x_i) - y_i\n",
    "$$\n",
    "\n",
    "* 如何选择子问题（sequential）\n",
    "\n",
    "> * 第一个变量i,\n",
    ">> * 首先选择间隔边界上的支持向量点,选择最违反KKT条件的点;\n",
    ">> * 如果都满足KKT条件,遍历整个训练集,选择最违反KKT的点.\n",
    ">* 第二个变量j\n",
    ">> * 选择$|E_i-E_j|$最大;\n",
    ">> * 如果没有太大下降,则选择边界上的支持向量点;\n",
    ">> * 如果还没有足够下降,则遍历整个训练集;\n",
    ">> * 如果还没有,则在外层循环寻找下一个合适的i."
   ]
  },
  {
   "cell_type": "markdown",
   "metadata": {},
   "source": [
    "## 对训练样本数据的预处理方法\n",
    "***"
   ]
  },
  {
   "cell_type": "markdown",
   "metadata": {},
   "source": [
    "### Clustering 抽样"
   ]
  },
  {
   "cell_type": "code",
   "execution_count": null,
   "metadata": {},
   "outputs": [],
   "source": []
  },
  {
   "cell_type": "markdown",
   "metadata": {},
   "source": [
    "### Random 抽样"
   ]
  },
  {
   "cell_type": "markdown",
   "metadata": {},
   "source": [
    "## 后修剪方法"
   ]
  },
  {
   "cell_type": "markdown",
   "metadata": {},
   "source": [
    "### 学习样例的选择\n",
    "\n",
    "采用SCA（seperable case approximation）或者SSCA（smoothed SCA）策略，将错误分类点，或太接近分离超平面的点都舍弃。剩下的点在原则上，能给出较少的支持向量数目！"
   ]
  },
  {
   "cell_type": "code",
   "execution_count": 2,
   "metadata": {
    "scrolled": true
   },
   "outputs": [
    {
     "name": "stdout",
     "output_type": "stream",
     "text": [
      "accuracy is 0.922000\n",
      "\n",
      "Hyper surface:\n",
      "\tw =\n",
      " [  96.0378537   104.01353933] \n",
      "\tb =\n",
      " -2.41666726239\n",
      "\n",
      "Support vector number:\t199\n"
     ]
    },
    {
     "data": {
      "image/png": "[encoded data removed]",
      "text/plain": [
       "<matplotlib.figure.Figure at 0x2aaab34fceb8>"
      ]
     },
     "metadata": {},
     "output_type": "display_data"
    }
   ],
   "source": [
    "import numpy as np\n",
    "import pandas as pd\n",
    "import matplotlib.pyplot as plt\n",
    "import mlcore.svm as svm\n",
    "%matplotlib inline\n",
    "\n",
    "df = pd.read_csv('./dat/svm_Train.csv', header=None)\n",
    "X = df.values[:,0:2]\n",
    "y = df.values[:,-1]\n",
    "\n",
    "#print(df)\n",
    "\n",
    "clf = svm.svm(kernel='linear',C=1,maxiter=np.float('Inf'))\n",
    "clf.fit(X,y)\n",
    "clf.summary()\n",
    "clf.plot_surface(-1,2)\n",
    "plt.show()"
   ]
  },
  {
   "cell_type": "code",
   "execution_count": 1,
   "metadata": {
    "scrolled": true
   },
   "outputs": [
    {
     "name": "stdout",
     "output_type": "stream",
     "text": [
      "0.0 63.0 0.921\n",
      "0.1 49.0 0.921\n",
      "0.2 46.0 0.921\n",
      "0.3 39.0 0.921\n",
      "0.4 33.0 0.921\n",
      "0.5 26.0 0.92\n"
     ]
    },
    {
     "data": {
      "image/png": "[encoded data removed]",
      "text/plain": [
       "<matplotlib.figure.Figure at 0x2aaadcda8b00>"
      ]
     },
     "metadata": {},
     "output_type": "display_data"
    }
   ],
   "source": [
    "import numpy as np\n",
    "import pandas as pd\n",
    "import matplotlib.pyplot as plt\n",
    "import mlcore.svm as svm\n",
    "%matplotlib inline\n",
    "\n",
    "df = pd.read_csv('./dat/svm_Train.csv', header=None)\n",
    "X = df.values[:,0:2]\n",
    "y = df.values[:,-1]\n",
    "\n",
    "#print(df)\n",
    "\n",
    "clf = svm.svm(kernel='linear',C=1,maxiter=np.float('Inf'))\n",
    "postclf = svm.svm(kernel='linear',C=1,maxiter=np.float('Inf'))\n",
    "clf.fit(X,y)\n",
    "accur_ori = clf.accuracy\n",
    "\n",
    "Nplot = 6\n",
    "D = np.linspace(0,0.5,Nplot)\n",
    "\n",
    "numsv = np.zeros((Nplot+1))\n",
    "accur = np.zeros((Nplot+1))\n",
    "numsv[0] = clf.nsv\n",
    "accur[0] = clf.accuracy\n",
    "for i in range(Nplot):\n",
    "    Xs, ys = clf.PostSample(D[i])\n",
    "    postclf.fit(Xs,ys)\n",
    "    numsv[i+1] = postclf.nsv\n",
    "    accur[i+1] = postclf.test_accuracy(X,y)\n",
    "    \n",
    "    print(D[i], numsv[i+1], accur[i+1])\n",
    "    \n",
    "plt.plot(numsv, accur, '.-', c='r', label='SSCA test')\n",
    "plt.plot(numsv, np.ones((Nplot+1))*accur_ori, '--', c='k', label='full train')\n",
    "plt.xlabel('number of SV')\n",
    "plt.ylabel('accuracy')\n",
    "plt.ylim((0.5,1))\n",
    "plt.legend(loc=0)\n",
    "plt.savefig('./dat/SSCA.png')\n",
    "plt.show()"
   ]
  },
  {
   "cell_type": "markdown",
   "metadata": {},
   "source": [
    "上述测试中，SCA对应$D=0$，将错分类点完全删去；而$D\\ne 0$时，即考虑将$y_i(w\\cdot x_i+b)>D$的点完全删去。 可见，我们测试了D={0,0.1,0.2,0.3,0.4,0.5}的情况，构造出新的SVM，并测试约化SVM模型对于全数据集的准确度。我们发现，随着D的增大，支持向量（SV）的数目明显变少，同时训练出的模型对于全数据集的精确度没有明显下降。这说明了SSCA是一种好的后修剪减少支持向量数目的方法。"
   ]
  },
  {
   "cell_type": "markdown",
   "metadata": {},
   "source": [
    "### 约化集的构建（post-construct）"
   ]
  },
  {
   "cell_type": "markdown",
   "metadata": {},
   "source": [
    "我们记$\\tilde{\\alpha}_i=y_i \\alpha_i$，则原始的SVM优化得到的特征向量为$w=\\sum_i \\tilde{\\alpha_i}\\Phi(x_i), i=1,\\cdots,l$,我们假定另一组样本空间给出的$w'=\\sum_k \\tilde{\\beta}_k \\Phi(z_k), k=1,\\cdots,m$，其中$m<l$能够近似给出$w\\approx w'$。那么问题的关键就在于如何构造出一组$z_k$和$\\tilde{\\beta}_k$。首先给定$z_k$，是可以求出最有的$\\beta_k$的：\n",
    "\n"
   ]
  },
  {
   "cell_type": "markdown",
   "metadata": {},
   "source": [
    "$$\n",
    "\\frac{\\partial}{\\partial \\tilde{\\beta}_k} \\|w-w'\\|^2 = 0\n",
    "\\\\\n",
    "\\to \\tilde{\\beta} = (K_{zz})^{-1} K_{zx} \\tilde{\\alpha}\n",
    "$$\n",
    "这里$(K_{zz})_{ij}=k(z_i,z_j)$，$(K_{zx})_{ij}=k(z_i,x_j)$\n",
    "\n",
    "IPA的想法是每找到一个$z_{m-1}$，新构造的特征向量为$w_m = \\sum_i^l\\tilde{\\alpha}_i \\Phi(x)i) - \\sum_{i=1}^{m-1}\\tilde{\\beta}_i\\Phi(z_i)$，通过找$w_m$的最优原象$z_m$作为第m个新构造的样本，直到达到满足的数目。"
   ]
  },
  {
   "cell_type": "markdown",
   "metadata": {},
   "source": [
    "原象通过优化拿到\n",
    "$$\n",
    "\\hat{z} = \\arg\\min_{z} \\|\\Phi(z) - \\sum_i\\tilde{\\gamma}_i\\Phi(\\chi_i) \\|^2\n",
    "$$\n",
    "其中$\\tilde{\\gamma} = \\{\\tilde{\\alpha}, -\\tilde{\\beta}_1, \\cdots, -\\tilde{\\beta}_{m-1}\\}$，而$\\chi=\\{x, z_1, \\cdots, z_{m-1}\\}$\n",
    "\n",
    "特别地，对于RBF类型的SVM，这等效于优化\n",
    "\n",
    "$$\n",
    "\\hat{z} = \\arg\\max_{z} \\sum_i \\tilde{\\alpha}_i k(z,x_i)\n",
    "$$\n",
    "\n",
    "可以采用梯度下降法进行优化得到$z_m=\\hat{z}$。\n",
    "每得到一个$z_m$，需要进一步更新全部的$\\tilde{\\beta}_k$\n"
   ]
  },
  {
   "cell_type": "code",
   "execution_count": 1,
   "metadata": {},
   "outputs": [
    {
     "ename": "KeyboardInterrupt",
     "evalue": "",
     "output_type": "error",
     "traceback": [
      "\u001b[0;31m---------------------------------------------------------------------------\u001b[0m",
      "\u001b[0;31mKeyboardInterrupt\u001b[0m                         Traceback (most recent call last)",
      "\u001b[0;32m<ipython-input-1-39410bde3327>\u001b[0m in \u001b[0;36m<module>\u001b[0;34m()\u001b[0m\n\u001b[1;32m     26\u001b[0m \u001b[0;34m\u001b[0m\u001b[0m\n\u001b[1;32m     27\u001b[0m \u001b[0mNc\u001b[0m \u001b[0;34m=\u001b[0m \u001b[0;36m100\u001b[0m\u001b[0;34m\u001b[0m\u001b[0m\n\u001b[0;32m---> 28\u001b[0;31m \u001b[0mXs\u001b[0m\u001b[0;34m,\u001b[0m\u001b[0mys\u001b[0m \u001b[0;34m=\u001b[0m \u001b[0mclf\u001b[0m\u001b[0;34m.\u001b[0m\u001b[0mPostConstruct\u001b[0m\u001b[0;34m(\u001b[0m\u001b[0mNc\u001b[0m\u001b[0;34m)\u001b[0m\u001b[0;34m\u001b[0m\u001b[0m\n\u001b[0m\u001b[1;32m     29\u001b[0m \u001b[0mprint\u001b[0m\u001b[0;34m(\u001b[0m\u001b[0mXs\u001b[0m\u001b[0;34m,\u001b[0m\u001b[0mys\u001b[0m\u001b[0;34m)\u001b[0m\u001b[0;34m\u001b[0m\u001b[0m\n\u001b[1;32m     30\u001b[0m \u001b[0;34m\u001b[0m\u001b[0m\n",
      "\u001b[0;32m~/Documents/codes/ML_2019_fall/mlcore/svm.py\u001b[0m in \u001b[0;36mPostConstruct\u001b[0;34m(self, Nc)\u001b[0m\n\u001b[1;32m    410\u001b[0m             \u001b[0;32mfor\u001b[0m \u001b[0mi\u001b[0m \u001b[0;32min\u001b[0m \u001b[0mrange\u001b[0m\u001b[0;34m(\u001b[0m\u001b[0mNc\u001b[0m\u001b[0;34m)\u001b[0m\u001b[0;34m:\u001b[0m\u001b[0;34m\u001b[0m\u001b[0m\n\u001b[1;32m    411\u001b[0m                 \u001b[0mNt\u001b[0m \u001b[0;34m=\u001b[0m \u001b[0mself\u001b[0m\u001b[0;34m.\u001b[0m\u001b[0mNs\u001b[0m \u001b[0;34m+\u001b[0m \u001b[0mi\u001b[0m\u001b[0;34m\u001b[0m\u001b[0m\n\u001b[0;32m--> 412\u001b[0;31m                 \u001b[0mXc\u001b[0m\u001b[0;34m,\u001b[0m \u001b[0mbeta\u001b[0m \u001b[0;34m=\u001b[0m \u001b[0mself\u001b[0m\u001b[0;34m.\u001b[0m\u001b[0mpreimg\u001b[0m\u001b[0;34m(\u001b[0m\u001b[0mXc\u001b[0m\u001b[0;34m,\u001b[0m \u001b[0mbeta\u001b[0m\u001b[0;34m,\u001b[0m \u001b[0mNt\u001b[0m\u001b[0;34m)\u001b[0m\u001b[0;34m\u001b[0m\u001b[0m\n\u001b[0m\u001b[1;32m    413\u001b[0m                 \u001b[0;31m#print(\"xxx\")\u001b[0m\u001b[0;34m\u001b[0m\u001b[0;34m\u001b[0m\u001b[0m\n\u001b[1;32m    414\u001b[0m \u001b[0;34m\u001b[0m\u001b[0m\n",
      "\u001b[0;32m~/Documents/codes/ML_2019_fall/mlcore/svm.py\u001b[0m in \u001b[0;36mpreimg\u001b[0;34m(self, Xc, beta, Nt)\u001b[0m\n\u001b[1;32m    368\u001b[0m                 \u001b[0;32mif\u001b[0m \u001b[0mright\u001b[0m\u001b[0;34m:\u001b[0m\u001b[0;34m\u001b[0m\u001b[0m\n\u001b[1;32m    369\u001b[0m                     \u001b[0mZd\u001b[0m \u001b[0;34m=\u001b[0m \u001b[0;34m(\u001b[0m\u001b[0;36m1.618\u001b[0m\u001b[0;34m*\u001b[0m\u001b[0mZb\u001b[0m \u001b[0;34m+\u001b[0m \u001b[0mZc\u001b[0m\u001b[0;34m)\u001b[0m\u001b[0;34m/\u001b[0m\u001b[0;36m2.618\u001b[0m\u001b[0;34m\u001b[0m\u001b[0m\n\u001b[0;32m--> 370\u001b[0;31m                     \u001b[0mcostd\u001b[0m \u001b[0;34m=\u001b[0m \u001b[0mcost\u001b[0m\u001b[0;34m(\u001b[0m\u001b[0mZd\u001b[0m\u001b[0;34m)\u001b[0m\u001b[0;34m;\u001b[0m\u001b[0;34m\u001b[0m\u001b[0m\n\u001b[0m\u001b[1;32m    371\u001b[0m                     \u001b[0;32mif\u001b[0m\u001b[0;34m(\u001b[0m\u001b[0mcostd\u001b[0m\u001b[0;34m-\u001b[0m\u001b[0mcostb\u001b[0m \u001b[0;34m<\u001b[0m \u001b[0mself\u001b[0m\u001b[0;34m.\u001b[0m\u001b[0mepslow\u001b[0m \u001b[0;32mand\u001b[0m \u001b[0mcostd\u001b[0m\u001b[0;34m-\u001b[0m\u001b[0mcostb\u001b[0m \u001b[0;34m>\u001b[0m \u001b[0;34m-\u001b[0m \u001b[0mself\u001b[0m\u001b[0;34m.\u001b[0m\u001b[0mepslow\u001b[0m\u001b[0;34m)\u001b[0m\u001b[0;34m:\u001b[0m\u001b[0;34m\u001b[0m\u001b[0m\n\u001b[1;32m    372\u001b[0m                         \u001b[0;32mbreak\u001b[0m\u001b[0;34m\u001b[0m\u001b[0m\n",
      "\u001b[0;32m~/Documents/codes/ML_2019_fall/mlcore/svm.py\u001b[0m in \u001b[0;36mcost\u001b[0;34m(Zt)\u001b[0m\n\u001b[1;32m    318\u001b[0m         \u001b[0;31m# maxmize cost\u001b[0m\u001b[0;34m\u001b[0m\u001b[0;34m\u001b[0m\u001b[0m\n\u001b[1;32m    319\u001b[0m         \u001b[0;32mdef\u001b[0m \u001b[0mcost\u001b[0m\u001b[0;34m(\u001b[0m\u001b[0mZt\u001b[0m\u001b[0;34m)\u001b[0m\u001b[0;34m:\u001b[0m\u001b[0;34m\u001b[0m\u001b[0m\n\u001b[0;32m--> 320\u001b[0;31m             \u001b[0mKz1xNt\u001b[0m \u001b[0;34m=\u001b[0m \u001b[0mself\u001b[0m\u001b[0;34m.\u001b[0m\u001b[0m_Kernel\u001b[0m\u001b[0;34m(\u001b[0m\u001b[0mZt\u001b[0m\u001b[0;34m,\u001b[0m \u001b[0mXc\u001b[0m\u001b[0;34m[\u001b[0m\u001b[0;36m0\u001b[0m\u001b[0;34m:\u001b[0m\u001b[0mNt\u001b[0m\u001b[0;34m,\u001b[0m\u001b[0;34m:\u001b[0m\u001b[0;34m]\u001b[0m\u001b[0;34m)\u001b[0m\u001b[0;34m\u001b[0m\u001b[0m\n\u001b[0m\u001b[1;32m    321\u001b[0m             \u001b[0;32mreturn\u001b[0m \u001b[0mnp\u001b[0m\u001b[0;34m.\u001b[0m\u001b[0mdot\u001b[0m\u001b[0;34m(\u001b[0m\u001b[0mKz1xNt\u001b[0m\u001b[0;34m,\u001b[0m \u001b[0mbeta\u001b[0m\u001b[0;34m[\u001b[0m\u001b[0;36m0\u001b[0m\u001b[0;34m:\u001b[0m\u001b[0mNt\u001b[0m\u001b[0;34m]\u001b[0m\u001b[0;34m)\u001b[0m\u001b[0;34m[\u001b[0m\u001b[0;36m0\u001b[0m\u001b[0;34m]\u001b[0m\u001b[0;34m\u001b[0m\u001b[0m\n\u001b[1;32m    322\u001b[0m \u001b[0;34m\u001b[0m\u001b[0m\n",
      "\u001b[0;32m~/Documents/codes/ML_2019_fall/mlcore/svm.py\u001b[0m in \u001b[0;36m_Kernel\u001b[0;34m(self, X, Xp)\u001b[0m\n\u001b[1;32m    125\u001b[0m                 \u001b[0m_N2\u001b[0m\u001b[0;34m[\u001b[0m\u001b[0mi\u001b[0m\u001b[0;34m]\u001b[0m \u001b[0;34m=\u001b[0m \u001b[0mnp\u001b[0m\u001b[0;34m.\u001b[0m\u001b[0mlinalg\u001b[0m\u001b[0;34m.\u001b[0m\u001b[0mnorm\u001b[0m\u001b[0;34m(\u001b[0m\u001b[0mX\u001b[0m\u001b[0;34m[\u001b[0m\u001b[0mi\u001b[0m\u001b[0;34m,\u001b[0m\u001b[0;34m:\u001b[0m\u001b[0;34m]\u001b[0m\u001b[0;34m)\u001b[0m\u001b[0;34m**\u001b[0m\u001b[0;36m2\u001b[0m\u001b[0;34m\u001b[0m\u001b[0m\n\u001b[1;32m    126\u001b[0m             \u001b[0;32mfor\u001b[0m \u001b[0mi\u001b[0m \u001b[0;32min\u001b[0m \u001b[0mrange\u001b[0m\u001b[0;34m(\u001b[0m\u001b[0mXp\u001b[0m\u001b[0;34m.\u001b[0m\u001b[0mshape\u001b[0m\u001b[0;34m[\u001b[0m\u001b[0;36m0\u001b[0m\u001b[0;34m]\u001b[0m\u001b[0;34m)\u001b[0m\u001b[0;34m:\u001b[0m\u001b[0;34m\u001b[0m\u001b[0m\n\u001b[0;32m--> 127\u001b[0;31m                 \u001b[0m_Np2\u001b[0m\u001b[0;34m[\u001b[0m\u001b[0mi\u001b[0m\u001b[0;34m]\u001b[0m \u001b[0;34m=\u001b[0m \u001b[0mnp\u001b[0m\u001b[0;34m.\u001b[0m\u001b[0mlinalg\u001b[0m\u001b[0;34m.\u001b[0m\u001b[0mnorm\u001b[0m\u001b[0;34m(\u001b[0m\u001b[0mXp\u001b[0m\u001b[0;34m[\u001b[0m\u001b[0mi\u001b[0m\u001b[0;34m,\u001b[0m\u001b[0;34m:\u001b[0m\u001b[0;34m]\u001b[0m\u001b[0;34m)\u001b[0m\u001b[0;34m**\u001b[0m\u001b[0;36m2\u001b[0m\u001b[0;34m\u001b[0m\u001b[0m\n\u001b[0m\u001b[1;32m    128\u001b[0m \u001b[0;34m\u001b[0m\u001b[0m\n\u001b[1;32m    129\u001b[0m             \u001b[0mnorm2\u001b[0m \u001b[0;34m=\u001b[0m \u001b[0mnp\u001b[0m\u001b[0;34m.\u001b[0m\u001b[0mouter\u001b[0m\u001b[0;34m(\u001b[0m\u001b[0m_I\u001b[0m\u001b[0;34m,\u001b[0m \u001b[0m_Np2\u001b[0m\u001b[0;34m)\u001b[0m \u001b[0;34m+\u001b[0m \u001b[0mnp\u001b[0m\u001b[0;34m.\u001b[0m\u001b[0mouter\u001b[0m\u001b[0;34m(\u001b[0m\u001b[0m_N2\u001b[0m\u001b[0;34m,\u001b[0m \u001b[0m_Ip\u001b[0m\u001b[0;34m)\u001b[0m \u001b[0;34m-\u001b[0m \u001b[0;36m2\u001b[0m\u001b[0;34m*\u001b[0m\u001b[0mnp\u001b[0m\u001b[0;34m.\u001b[0m\u001b[0mdot\u001b[0m\u001b[0;34m(\u001b[0m\u001b[0mX\u001b[0m\u001b[0;34m,\u001b[0m\u001b[0mXp\u001b[0m\u001b[0;34m.\u001b[0m\u001b[0mT\u001b[0m\u001b[0;34m)\u001b[0m\u001b[0;34m\u001b[0m\u001b[0m\n",
      "\u001b[0;31mKeyboardInterrupt\u001b[0m: "
     ]
    }
   ],
   "source": [
    "import numpy as np\n",
    "import pandas as pd\n",
    "import matplotlib.pyplot as plt\n",
    "import mlcore.svm as svm\n",
    "%matplotlib inline\n",
    "\n",
    "df = pd.read_csv('./dat/svm_Train.csv', header=None)\n",
    "X = df.values[:,0:2]\n",
    "y = df.values[:,-1]\n",
    "#print(df)\n",
    "\n",
    "clf = svm.svm(kernel='gauss', kernelargs={'sigma':1},C=1, maxiter=np.float('Inf'))\n",
    "postclf = svm.svm(kernel='gauss',kernelargs={'sigma':1},C=1, maxiter=np.float('Inf'))\n",
    "\"\"\"\n",
    "clf.fit(X,y)\n",
    "accur_ori = clf.accuracy\n",
    "print(clf.nsv, clf.accuracy)\n",
    "df_alpha = pd.DataFrame(clf.alpha)\n",
    "df_alpha.to_csv('./dat/rbf_alpha.csv', header=None, index=None)\n",
    "exit(-1)\n",
    "\"\"\"\n",
    "clf.X = X\n",
    "clf.y = y\n",
    "clf.Ns, clf.nfeature = np.shape(X)\n",
    "clf.alpha = pd.read_csv('./dat/rbf_alpha.csv', header=None).values[:,0]\n",
    "\n",
    "Nc = 50\n",
    "Xs,ys = clf.PostConstruct(Nc)\n",
    "print(Xs,ys)\n",
    "\n",
    "for i in range(Nc):\n",
    "    if ys[i] > 0:\n",
    "        plt.plot(Xs[i,0],Xs[i,1],'k.')\n",
    "    else:\n",
    "        plt.plot(Xs[i,0],Xs[i,1],'r.')\n",
    "plt.show()\n",
    "\n",
    "\"\"\"\n",
    "rlist = range(10,Nc,10)\n",
    "nrlist = len(rlist)\n",
    "numsv = np.zeros((nrlist+1))\n",
    "accur = np.zeros((nrlist+1))\n",
    "for i in range(nrlist):\n",
    "    postclf.fit(Xs[0:i,:],ys[0:i])\n",
    "    numsv[i] = postclf.nsv\n",
    "    accur[i] = postclf.test_accuracy(X,y)\n",
    "    print(i,numsv[i], accur[i])\n",
    "\n",
    "numsv[-1] = 202\n",
    "accur[-1] = 0.922\n",
    "\n",
    "plt.plot(numsv, accur, '.-', c='r', label='IPA test')\n",
    "plt.plot(numsv, np.ones((Nplot+1))*accur_ori, '--', c='k', label='full train')\n",
    "plt.xlabel('number of SV')\n",
    "plt.ylabel('accuracy')\n",
    "plt.ylim((0.5,1))\n",
    "plt.legend(loc=0)\n",
    "plt.savefig('./dat/IPA.png')\n",
    "plt.show()\n",
    "\"\"\""
   ]
  },
  {
   "cell_type": "code",
   "execution_count": null,
   "metadata": {},
   "outputs": [],
   "source": []
  }
 ],
 "metadata": {
  "kernelspec": {
   "display_name": "Python 3",
   "language": "python",
   "name": "python3"
  }
 },
 "nbformat": 4,
 "nbformat_minor": 2
}
